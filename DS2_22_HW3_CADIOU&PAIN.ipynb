{
 "cells": [
  {
   "cell_type": "markdown",
   "metadata": {},
   "source": [
    "# HELP\n",
    "\n",
    "https://practicaldatascience.co.uk/machine-learning/how-to-use-category-encoders-to-transform-categorical-variables\n",
    "https://xgboost.readthedocs.io/en/latest/parameter.html"
   ]
  },
  {
   "cell_type": "markdown",
   "metadata": {},
   "source": [
    "## Load modules and packages"
   ]
  },
  {
   "cell_type": "code",
   "execution_count": 107,
   "metadata": {},
   "outputs": [],
   "source": [
    "import numpy as np\n",
    "import pandas as pd\n",
    "import datetime\n",
    "from tqdm.notebook import tqdm\n",
    "from random import sample\n",
    "from sklearn.model_selection import train_test_split\n",
    "from sklearn.metrics import roc_auc_score\n",
    "from sklearn import tree\n",
    "from sklearn.metrics import roc_auc_score\n",
    "import random\n",
    "from sklearn.pipeline import Pipeline\n",
    "import category_encoders as ce\n",
    "import xgboost as xgb\n",
    "from sklearn.metrics import mean_squared_error\n",
    "from sklearn.experimental import enable_halving_search_cv # noqa\n",
    "# now you can import normally from model_selection\n",
    "from sklearn.model_selection import HalvingRandomSearchCV"
   ]
  },
  {
   "cell_type": "markdown",
   "metadata": {},
   "source": [
    "## Load data"
   ]
  },
  {
   "cell_type": "code",
   "execution_count": 108,
   "metadata": {},
   "outputs": [
    {
     "name": "stdout",
     "output_type": "stream",
     "text": [
      "Data loaded on:   2022-05-16 15:26:00\n"
     ]
    }
   ],
   "source": [
    "random.seed(10) \n",
    "\n",
    "from functions import *\n",
    "# Load data - set index column, decimal point, separator\n",
    "data = pd.read_csv('hw1_devsample.csv', sep=',',\n",
    "                   decimal='.', index_col='SK_ID_CURR')\n",
    "\n",
    "# print time of data being loaded - use strftime\n",
    "print(f'Data loaded on:   {datetime.datetime.now().strftime(format=\"%Y-%m-%d %H:%M:%S\")}')\n",
    "data_xgb = data.copy()\n",
    "\n",
    "data_test = pd.read_csv('hw1_outofsample.csv', sep=',',decimal='.', index_col='SK_ID_CURR')"
   ]
  },
  {
   "cell_type": "markdown",
   "metadata": {},
   "source": [
    "## Small changes"
   ]
  },
  {
   "cell_type": "code",
   "execution_count": 109,
   "metadata": {},
   "outputs": [],
   "source": [
    "target = data_xgb['TARGET']\n",
    "data_xgb = data_xgb.drop(['MONTH','TIME','DAY','BASE','TARGET'], axis=1)\n",
    "#data_xgb.info()"
   ]
  },
  {
   "cell_type": "code",
   "execution_count": 110,
   "metadata": {},
   "outputs": [],
   "source": [
    "data_test = data_test.drop(['MONTH','TIME','DAY','BASE'], axis=1)"
   ]
  },
  {
   "cell_type": "code",
   "execution_count": 111,
   "metadata": {},
   "outputs": [],
   "source": [
    "cols_pred = data_xgb.columns\n",
    "cols_pred_cat = [col for col in cols_pred if data_xgb[col].dtype == 'O']\n",
    "#cols_pred_cat"
   ]
  },
  {
   "cell_type": "markdown",
   "metadata": {},
   "source": [
    "## Split data train and test"
   ]
  },
  {
   "cell_type": "code",
   "execution_count": 112,
   "metadata": {},
   "outputs": [],
   "source": [
    "from sklearn.model_selection import train_test_split\n",
    "\n",
    "X_train, X_test, y_train, y_test = train_test_split(data_xgb, target, test_size=0.2, random_state=123)"
   ]
  },
  {
   "cell_type": "markdown",
   "metadata": {},
   "source": [
    "# Test manually"
   ]
  },
  {
   "cell_type": "markdown",
   "metadata": {},
   "source": [
    "### Test target encoder"
   ]
  },
  {
   "cell_type": "code",
   "execution_count": 113,
   "metadata": {},
   "outputs": [],
   "source": [
    "target_encoder = ce.target_encoder.TargetEncoder(verbose=0, \n",
    "cols=cols_pred_cat,\n",
    "return_df=True, handle_missing='value', \n",
    "handle_unknown='value'\n",
    ")\n",
    "X_train = target_encoder.fit_transform(X_train, y_train)\n",
    "X_test = target_encoder.fit_transform(X_test, y_test)"
   ]
  },
  {
   "cell_type": "code",
   "execution_count": 114,
   "metadata": {},
   "outputs": [],
   "source": [
    "# find columns with infinity values\n",
    "cols_with_inf = []\n",
    "for col in X_train.columns:\n",
    "    if np.any(np.isinf(X_train[col])):\n",
    "        cols_with_inf.append(col)\n",
    "        #print(f'Column {col} includes infinity values.')\n",
    "\n",
    "# find columns with negative infinity values\n",
    "cols_with_neginf = []\n",
    "for col in X_train.columns:\n",
    "    if np.any(np.isneginf(X_train[col])):\n",
    "        cols_with_neginf.append(col)\n",
    "        #print(f'Column {col} includes negative infinity values.')\n",
    "\n",
    "for col in cols_with_inf:\n",
    "    X_train[col].replace(np.inf, 9999999, inplace = True)\n",
    "\n",
    "    # find columns with infinity values\n",
    "cols_with_inf = []\n",
    "for col in X_test.columns:\n",
    "    if np.any(np.isinf(X_test[col])):\n",
    "        cols_with_inf.append(col)\n",
    "        #print(f'Column {col} includes infinity values.')\n",
    "\n",
    "# find columns with negative infinity values\n",
    "cols_with_neginf = []\n",
    "for col in X_test.columns:\n",
    "    if np.any(np.isneginf(X_test[col])):\n",
    "        cols_with_neginf.append(col)\n",
    "        #print(f'Column {col} includes negative infinity values.')\n",
    "\n",
    "for col in cols_with_inf:\n",
    "    X_test[col].replace(np.inf, 9999999, inplace = True)"
   ]
  },
  {
   "cell_type": "markdown",
   "metadata": {},
   "source": [
    "# Pipeline"
   ]
  },
  {
   "cell_type": "code",
   "execution_count": 115,
   "metadata": {},
   "outputs": [],
   "source": [
    "target_encoder = ce.target_encoder.TargetEncoder( \n",
    "cols=cols_pred_cat,\n",
    "return_df=True, handle_missing='value', \n",
    "handle_unknown='value'\n",
    ")"
   ]
  },
  {
   "cell_type": "code",
   "execution_count": 116,
   "metadata": {},
   "outputs": [],
   "source": [
    "model = xgb.XGBClassifier(objective='binary:logistic', booster='gbtree', \n",
    "                        eval_metric = 'auc', \n",
    "                        seed = 123)"
   ]
  },
  {
   "cell_type": "code",
   "execution_count": 117,
   "metadata": {},
   "outputs": [],
   "source": [
    "pipe = Pipeline([\n",
    "    ('Mean_Target_Encoding', target_encoder),\n",
    "    ('model', model)\n",
    "])"
   ]
  },
  {
   "cell_type": "markdown",
   "metadata": {},
   "source": [
    "## Halving Random Search CV"
   ]
  },
  {
   "cell_type": "code",
   "execution_count": 120,
   "metadata": {},
   "outputs": [],
   "source": [
    "param_grid = {\n",
    "    'Mean_Target_Encoding__smoothing': [0.1,0.2,0.3,0.4,0.5,0.6,0.7,0.8,0.9,1.0, 1.5,2.0,2.5,3.0],\n",
    "    #'Mean_Target_Encoding__min_samples_leaf' : [1,3,5,7,10,15],\n",
    "    'model__max_depth' : [1,2,3,4,5,6,7,8,9,10],\n",
    "    'model__eta' : [0.05,0.1,0.2,0.3,0.4,0,0.5,0.8,1.0],\n",
    "    'model__gamma': [0,1,2,3,4,5,6,7,8,9,10,11,12,13,14,15,16,17,18,19,20,21,22,23,24,25],\n",
    "    'model__subsample' : [0.1,0.2,0.3,0.4,0.5,0.6,0.7,0.8,0.9,1],\n",
    "    'model__lambda' : [0.5,1,1.5,2,2.5,3.0,3.5,4.0,4.5,5.0,5.5,6.0,6.5,7.0],\n",
    "    'model__alpha' : [0.5,1,1.5,2,2.5,3.0,3.5,4.0,4.5,5.0,5.5,6.0,6.5,7.0],\n",
    "    'model__max_delta_step' : [0,1,2,3,4],\n",
    "    'model__colsample_bytree': [0.1,0.2,0.3,0.4,0.5,0.6,0.7,0.8,0.9,1.0],\n",
    "    'model__colsample_bylevel' : [0.1,0.2,0.3,0.4,0.5,0.6,0.7,0.8,0.9,1.0],\n",
    "    'model__colsample_bynode' : [0.1,0.2,0.3,0.4,0.5,0.6,0.7,0.8,0.9,1.0],\n",
    "    'model__tree_method' : ['exact','auto','approx'],\n",
    "    'model__max_delta_step' : [0,1,2,3,4,5,6,7,8,9,10],\n",
    "    'model__base_score' : [0.1,0.2,0.3,0.4,0.5,0.6,0.7,0.8,0.9,1.0]\n",
    "    #'model__eval_metric': ['logloss', 'auc'],\n",
    "    #'model__n_estimators' : [0,2,4,10,20,30,50,100]\n",
    "}\n"
   ]
  },
  {
   "cell_type": "markdown",
   "metadata": {},
   "source": [
    "## Apply pipeline to data"
   ]
  },
  {
   "cell_type": "markdown",
   "metadata": {},
   "source": [
    "https://towardsdatascience.com/11-times-faster-hyperparameter-tuning-with-halvinggridsearch-232ed0160155"
   ]
  },
  {
   "cell_type": "code",
   "execution_count": 128,
   "metadata": {},
   "outputs": [
    {
     "ename": "OverflowError",
     "evalue": "Python int too large to convert to C long",
     "output_type": "error",
     "traceback": [
      "\u001b[1;31m---------------------------------------------------------------------------\u001b[0m",
      "\u001b[1;31mOverflowError\u001b[0m                             Traceback (most recent call last)",
      "\u001b[1;32mc:\\Users\\PC\\OneDrive\\Bureau\\Praha semester\\Data Science 2\\Homework 3\\DS2_22_HW3_CADIOU&PAIN.ipynb Cell 24'\u001b[0m in \u001b[0;36m<cell line: 1>\u001b[1;34m()\u001b[0m\n\u001b[0;32m      <a href='vscode-notebook-cell:/c%3A/Users/PC/OneDrive/Bureau/Praha%20semester/Data%20Science%202/Homework%203/DS2_22_HW3_CADIOU%26PAIN.ipynb#ch0000023?line=0'>1</a>\u001b[0m hrs \u001b[39m=\u001b[39m HalvingRandomSearchCV(\n\u001b[0;32m      <a href='vscode-notebook-cell:/c%3A/Users/PC/OneDrive/Bureau/Praha%20semester/Data%20Science%202/Homework%203/DS2_22_HW3_CADIOU%26PAIN.ipynb#ch0000023?line=1'>2</a>\u001b[0m     estimator\u001b[39m=\u001b[39;49mpipe,\n\u001b[0;32m      <a href='vscode-notebook-cell:/c%3A/Users/PC/OneDrive/Bureau/Praha%20semester/Data%20Science%202/Homework%203/DS2_22_HW3_CADIOU%26PAIN.ipynb#ch0000023?line=2'>3</a>\u001b[0m     param_distributions\u001b[39m=\u001b[39;49mparam_grid,\n\u001b[0;32m      <a href='vscode-notebook-cell:/c%3A/Users/PC/OneDrive/Bureau/Praha%20semester/Data%20Science%202/Homework%203/DS2_22_HW3_CADIOU%26PAIN.ipynb#ch0000023?line=3'>4</a>\u001b[0m     aggressive_elimination\u001b[39m=\u001b[39;49m\u001b[39mTrue\u001b[39;49;00m,\n\u001b[0;32m      <a href='vscode-notebook-cell:/c%3A/Users/PC/OneDrive/Bureau/Praha%20semester/Data%20Science%202/Homework%203/DS2_22_HW3_CADIOU%26PAIN.ipynb#ch0000023?line=4'>5</a>\u001b[0m     factor\u001b[39m=\u001b[39;49m\u001b[39m3\u001b[39;49m,\n\u001b[0;32m      <a href='vscode-notebook-cell:/c%3A/Users/PC/OneDrive/Bureau/Praha%20semester/Data%20Science%202/Homework%203/DS2_22_HW3_CADIOU%26PAIN.ipynb#ch0000023?line=5'>6</a>\u001b[0m     n_candidates\u001b[39m=\u001b[39;49m \u001b[39m'\u001b[39;49m\u001b[39mexhaust\u001b[39;49m\u001b[39m'\u001b[39;49m,\n\u001b[0;32m      <a href='vscode-notebook-cell:/c%3A/Users/PC/OneDrive/Bureau/Praha%20semester/Data%20Science%202/Homework%203/DS2_22_HW3_CADIOU%26PAIN.ipynb#ch0000023?line=6'>7</a>\u001b[0m     \u001b[39m#resource='n_estimators',\u001b[39;49;00m\n\u001b[0;32m      <a href='vscode-notebook-cell:/c%3A/Users/PC/OneDrive/Bureau/Praha%20semester/Data%20Science%202/Homework%203/DS2_22_HW3_CADIOU%26PAIN.ipynb#ch0000023?line=7'>8</a>\u001b[0m     min_resources\u001b[39m=\u001b[39;49m\u001b[39m'\u001b[39;49m\u001b[39msmallest\u001b[39;49m\u001b[39m'\u001b[39;49m,\n\u001b[0;32m      <a href='vscode-notebook-cell:/c%3A/Users/PC/OneDrive/Bureau/Praha%20semester/Data%20Science%202/Homework%203/DS2_22_HW3_CADIOU%26PAIN.ipynb#ch0000023?line=8'>9</a>\u001b[0m     cv\u001b[39m=\u001b[39;49m\u001b[39m5\u001b[39;49m,\n\u001b[0;32m     <a href='vscode-notebook-cell:/c%3A/Users/PC/OneDrive/Bureau/Praha%20semester/Data%20Science%202/Homework%203/DS2_22_HW3_CADIOU%26PAIN.ipynb#ch0000023?line=9'>10</a>\u001b[0m     scoring\u001b[39m=\u001b[39;49m\u001b[39m'\u001b[39;49m\u001b[39mroc_auc\u001b[39;49m\u001b[39m'\u001b[39;49m,\n\u001b[0;32m     <a href='vscode-notebook-cell:/c%3A/Users/PC/OneDrive/Bureau/Praha%20semester/Data%20Science%202/Homework%203/DS2_22_HW3_CADIOU%26PAIN.ipynb#ch0000023?line=10'>11</a>\u001b[0m     \u001b[39m#error_score=0,\u001b[39;49;00m\n\u001b[0;32m     <a href='vscode-notebook-cell:/c%3A/Users/PC/OneDrive/Bureau/Praha%20semester/Data%20Science%202/Homework%203/DS2_22_HW3_CADIOU%26PAIN.ipynb#ch0000023?line=11'>12</a>\u001b[0m     n_jobs\u001b[39m=\u001b[39;49m\u001b[39m-\u001b[39;49m\u001b[39m1\u001b[39;49m\n\u001b[1;32m---> <a href='vscode-notebook-cell:/c%3A/Users/PC/OneDrive/Bureau/Praha%20semester/Data%20Science%202/Homework%203/DS2_22_HW3_CADIOU%26PAIN.ipynb#ch0000023?line=12'>13</a>\u001b[0m )\u001b[39m.\u001b[39;49mfit(X_train, y_train)\n",
      "File \u001b[1;32mc:\\Users\\PC\\AppData\\Local\\Programs\\Python\\Python310\\lib\\site-packages\\sklearn\\model_selection\\_search_successive_halving.py:262\u001b[0m, in \u001b[0;36mBaseSuccessiveHalving.fit\u001b[1;34m(self, X, y, groups, **fit_params)\u001b[0m\n\u001b[0;32m    <a href='file:///c%3A/Users/PC/AppData/Local/Programs/Python/Python310/lib/site-packages/sklearn/model_selection/_search_successive_halving.py?line=253'>254</a>\u001b[0m \u001b[39mself\u001b[39m\u001b[39m.\u001b[39m_check_input_parameters(\n\u001b[0;32m    <a href='file:///c%3A/Users/PC/AppData/Local/Programs/Python/Python310/lib/site-packages/sklearn/model_selection/_search_successive_halving.py?line=254'>255</a>\u001b[0m     X\u001b[39m=\u001b[39mX,\n\u001b[0;32m    <a href='file:///c%3A/Users/PC/AppData/Local/Programs/Python/Python310/lib/site-packages/sklearn/model_selection/_search_successive_halving.py?line=255'>256</a>\u001b[0m     y\u001b[39m=\u001b[39my,\n\u001b[0;32m    <a href='file:///c%3A/Users/PC/AppData/Local/Programs/Python/Python310/lib/site-packages/sklearn/model_selection/_search_successive_halving.py?line=256'>257</a>\u001b[0m     groups\u001b[39m=\u001b[39mgroups,\n\u001b[0;32m    <a href='file:///c%3A/Users/PC/AppData/Local/Programs/Python/Python310/lib/site-packages/sklearn/model_selection/_search_successive_halving.py?line=257'>258</a>\u001b[0m )\n\u001b[0;32m    <a href='file:///c%3A/Users/PC/AppData/Local/Programs/Python/Python310/lib/site-packages/sklearn/model_selection/_search_successive_halving.py?line=259'>260</a>\u001b[0m \u001b[39mself\u001b[39m\u001b[39m.\u001b[39m_n_samples_orig \u001b[39m=\u001b[39m _num_samples(X)\n\u001b[1;32m--> <a href='file:///c%3A/Users/PC/AppData/Local/Programs/Python/Python310/lib/site-packages/sklearn/model_selection/_search_successive_halving.py?line=261'>262</a>\u001b[0m \u001b[39msuper\u001b[39m()\u001b[39m.\u001b[39mfit(X, y\u001b[39m=\u001b[39my, groups\u001b[39m=\u001b[39mgroups, \u001b[39m*\u001b[39m\u001b[39m*\u001b[39mfit_params)\n\u001b[0;32m    <a href='file:///c%3A/Users/PC/AppData/Local/Programs/Python/Python310/lib/site-packages/sklearn/model_selection/_search_successive_halving.py?line=263'>264</a>\u001b[0m \u001b[39m# Set best_score_: BaseSearchCV does not set it, as refit is a callable\u001b[39;00m\n\u001b[0;32m    <a href='file:///c%3A/Users/PC/AppData/Local/Programs/Python/Python310/lib/site-packages/sklearn/model_selection/_search_successive_halving.py?line=264'>265</a>\u001b[0m \u001b[39mself\u001b[39m\u001b[39m.\u001b[39mbest_score_ \u001b[39m=\u001b[39m \u001b[39mself\u001b[39m\u001b[39m.\u001b[39mcv_results_[\u001b[39m\"\u001b[39m\u001b[39mmean_test_score\u001b[39m\u001b[39m\"\u001b[39m][\u001b[39mself\u001b[39m\u001b[39m.\u001b[39mbest_index_]\n",
      "File \u001b[1;32mc:\\Users\\PC\\AppData\\Local\\Programs\\Python\\Python310\\lib\\site-packages\\sklearn\\model_selection\\_search.py:891\u001b[0m, in \u001b[0;36mBaseSearchCV.fit\u001b[1;34m(self, X, y, groups, **fit_params)\u001b[0m\n\u001b[0;32m    <a href='file:///c%3A/Users/PC/AppData/Local/Programs/Python/Python310/lib/site-packages/sklearn/model_selection/_search.py?line=884'>885</a>\u001b[0m     results \u001b[39m=\u001b[39m \u001b[39mself\u001b[39m\u001b[39m.\u001b[39m_format_results(\n\u001b[0;32m    <a href='file:///c%3A/Users/PC/AppData/Local/Programs/Python/Python310/lib/site-packages/sklearn/model_selection/_search.py?line=885'>886</a>\u001b[0m         all_candidate_params, n_splits, all_out, all_more_results\n\u001b[0;32m    <a href='file:///c%3A/Users/PC/AppData/Local/Programs/Python/Python310/lib/site-packages/sklearn/model_selection/_search.py?line=886'>887</a>\u001b[0m     )\n\u001b[0;32m    <a href='file:///c%3A/Users/PC/AppData/Local/Programs/Python/Python310/lib/site-packages/sklearn/model_selection/_search.py?line=888'>889</a>\u001b[0m     \u001b[39mreturn\u001b[39;00m results\n\u001b[1;32m--> <a href='file:///c%3A/Users/PC/AppData/Local/Programs/Python/Python310/lib/site-packages/sklearn/model_selection/_search.py?line=890'>891</a>\u001b[0m \u001b[39mself\u001b[39;49m\u001b[39m.\u001b[39;49m_run_search(evaluate_candidates)\n\u001b[0;32m    <a href='file:///c%3A/Users/PC/AppData/Local/Programs/Python/Python310/lib/site-packages/sklearn/model_selection/_search.py?line=892'>893</a>\u001b[0m \u001b[39m# multimetric is determined here because in the case of a callable\u001b[39;00m\n\u001b[0;32m    <a href='file:///c%3A/Users/PC/AppData/Local/Programs/Python/Python310/lib/site-packages/sklearn/model_selection/_search.py?line=893'>894</a>\u001b[0m \u001b[39m# self.scoring the return type is only known after calling\u001b[39;00m\n\u001b[0;32m    <a href='file:///c%3A/Users/PC/AppData/Local/Programs/Python/Python310/lib/site-packages/sklearn/model_selection/_search.py?line=894'>895</a>\u001b[0m first_test_score \u001b[39m=\u001b[39m all_out[\u001b[39m0\u001b[39m][\u001b[39m\"\u001b[39m\u001b[39mtest_scores\u001b[39m\u001b[39m\"\u001b[39m]\n",
      "File \u001b[1;32mc:\\Users\\PC\\AppData\\Local\\Programs\\Python\\Python310\\lib\\site-packages\\sklearn\\model_selection\\_search_successive_halving.py:367\u001b[0m, in \u001b[0;36mBaseSuccessiveHalving._run_search\u001b[1;34m(self, evaluate_candidates)\u001b[0m\n\u001b[0;32m    <a href='file:///c%3A/Users/PC/AppData/Local/Programs/Python/Python310/lib/site-packages/sklearn/model_selection/_search_successive_halving.py?line=359'>360</a>\u001b[0m     cv \u001b[39m=\u001b[39m \u001b[39mself\u001b[39m\u001b[39m.\u001b[39m_checked_cv_orig\n\u001b[0;32m    <a href='file:///c%3A/Users/PC/AppData/Local/Programs/Python/Python310/lib/site-packages/sklearn/model_selection/_search_successive_halving.py?line=361'>362</a>\u001b[0m more_results \u001b[39m=\u001b[39m {\n\u001b[0;32m    <a href='file:///c%3A/Users/PC/AppData/Local/Programs/Python/Python310/lib/site-packages/sklearn/model_selection/_search_successive_halving.py?line=362'>363</a>\u001b[0m     \u001b[39m\"\u001b[39m\u001b[39miter\u001b[39m\u001b[39m\"\u001b[39m: [itr] \u001b[39m*\u001b[39m n_candidates,\n\u001b[0;32m    <a href='file:///c%3A/Users/PC/AppData/Local/Programs/Python/Python310/lib/site-packages/sklearn/model_selection/_search_successive_halving.py?line=363'>364</a>\u001b[0m     \u001b[39m\"\u001b[39m\u001b[39mn_resources\u001b[39m\u001b[39m\"\u001b[39m: [n_resources] \u001b[39m*\u001b[39m n_candidates,\n\u001b[0;32m    <a href='file:///c%3A/Users/PC/AppData/Local/Programs/Python/Python310/lib/site-packages/sklearn/model_selection/_search_successive_halving.py?line=364'>365</a>\u001b[0m }\n\u001b[1;32m--> <a href='file:///c%3A/Users/PC/AppData/Local/Programs/Python/Python310/lib/site-packages/sklearn/model_selection/_search_successive_halving.py?line=366'>367</a>\u001b[0m results \u001b[39m=\u001b[39m evaluate_candidates(\n\u001b[0;32m    <a href='file:///c%3A/Users/PC/AppData/Local/Programs/Python/Python310/lib/site-packages/sklearn/model_selection/_search_successive_halving.py?line=367'>368</a>\u001b[0m     candidate_params, cv, more_results\u001b[39m=\u001b[39;49mmore_results\n\u001b[0;32m    <a href='file:///c%3A/Users/PC/AppData/Local/Programs/Python/Python310/lib/site-packages/sklearn/model_selection/_search_successive_halving.py?line=368'>369</a>\u001b[0m )\n\u001b[0;32m    <a href='file:///c%3A/Users/PC/AppData/Local/Programs/Python/Python310/lib/site-packages/sklearn/model_selection/_search_successive_halving.py?line=370'>371</a>\u001b[0m n_candidates_to_keep \u001b[39m=\u001b[39m ceil(n_candidates \u001b[39m/\u001b[39m \u001b[39mself\u001b[39m\u001b[39m.\u001b[39mfactor)\n\u001b[0;32m    <a href='file:///c%3A/Users/PC/AppData/Local/Programs/Python/Python310/lib/site-packages/sklearn/model_selection/_search_successive_halving.py?line=371'>372</a>\u001b[0m candidate_params \u001b[39m=\u001b[39m _top_k(results, n_candidates_to_keep, itr)\n",
      "File \u001b[1;32mc:\\Users\\PC\\AppData\\Local\\Programs\\Python\\Python310\\lib\\site-packages\\sklearn\\model_selection\\_search.py:827\u001b[0m, in \u001b[0;36mBaseSearchCV.fit.<locals>.evaluate_candidates\u001b[1;34m(candidate_params, cv, more_results)\u001b[0m\n\u001b[0;32m    <a href='file:///c%3A/Users/PC/AppData/Local/Programs/Python/Python310/lib/site-packages/sklearn/model_selection/_search.py?line=824'>825</a>\u001b[0m \u001b[39mdef\u001b[39;00m \u001b[39mevaluate_candidates\u001b[39m(candidate_params, cv\u001b[39m=\u001b[39m\u001b[39mNone\u001b[39;00m, more_results\u001b[39m=\u001b[39m\u001b[39mNone\u001b[39;00m):\n\u001b[0;32m    <a href='file:///c%3A/Users/PC/AppData/Local/Programs/Python/Python310/lib/site-packages/sklearn/model_selection/_search.py?line=825'>826</a>\u001b[0m     cv \u001b[39m=\u001b[39m cv \u001b[39mor\u001b[39;00m cv_orig\n\u001b[1;32m--> <a href='file:///c%3A/Users/PC/AppData/Local/Programs/Python/Python310/lib/site-packages/sklearn/model_selection/_search.py?line=826'>827</a>\u001b[0m     candidate_params \u001b[39m=\u001b[39m \u001b[39mlist\u001b[39;49m(candidate_params)\n\u001b[0;32m    <a href='file:///c%3A/Users/PC/AppData/Local/Programs/Python/Python310/lib/site-packages/sklearn/model_selection/_search.py?line=827'>828</a>\u001b[0m     n_candidates \u001b[39m=\u001b[39m \u001b[39mlen\u001b[39m(candidate_params)\n\u001b[0;32m    <a href='file:///c%3A/Users/PC/AppData/Local/Programs/Python/Python310/lib/site-packages/sklearn/model_selection/_search.py?line=829'>830</a>\u001b[0m     \u001b[39mif\u001b[39;00m \u001b[39mself\u001b[39m\u001b[39m.\u001b[39mverbose \u001b[39m>\u001b[39m \u001b[39m0\u001b[39m:\n",
      "File \u001b[1;32mc:\\Users\\PC\\AppData\\Local\\Programs\\Python\\Python310\\lib\\site-packages\\sklearn\\model_selection\\_search.py:299\u001b[0m, in \u001b[0;36mParameterSampler.__iter__\u001b[1;34m(self)\u001b[0m\n\u001b[0;32m    <a href='file:///c%3A/Users/PC/AppData/Local/Programs/Python/Python310/lib/site-packages/sklearn/model_selection/_search.py?line=291'>292</a>\u001b[0m         warnings\u001b[39m.\u001b[39mwarn(\n\u001b[0;32m    <a href='file:///c%3A/Users/PC/AppData/Local/Programs/Python/Python310/lib/site-packages/sklearn/model_selection/_search.py?line=292'>293</a>\u001b[0m             \u001b[39m\"\u001b[39m\u001b[39mThe total space of parameters \u001b[39m\u001b[39m%d\u001b[39;00m\u001b[39m is smaller \u001b[39m\u001b[39m\"\u001b[39m\n\u001b[0;32m    <a href='file:///c%3A/Users/PC/AppData/Local/Programs/Python/Python310/lib/site-packages/sklearn/model_selection/_search.py?line=293'>294</a>\u001b[0m             \u001b[39m\"\u001b[39m\u001b[39mthan n_iter=\u001b[39m\u001b[39m%d\u001b[39;00m\u001b[39m. Running \u001b[39m\u001b[39m%d\u001b[39;00m\u001b[39m iterations. For exhaustive \u001b[39m\u001b[39m\"\u001b[39m\n\u001b[0;32m    <a href='file:///c%3A/Users/PC/AppData/Local/Programs/Python/Python310/lib/site-packages/sklearn/model_selection/_search.py?line=294'>295</a>\u001b[0m             \u001b[39m\"\u001b[39m\u001b[39msearches, use GridSearchCV.\u001b[39m\u001b[39m\"\u001b[39m \u001b[39m%\u001b[39m (grid_size, \u001b[39mself\u001b[39m\u001b[39m.\u001b[39mn_iter, grid_size),\n\u001b[0;32m    <a href='file:///c%3A/Users/PC/AppData/Local/Programs/Python/Python310/lib/site-packages/sklearn/model_selection/_search.py?line=295'>296</a>\u001b[0m             \u001b[39mUserWarning\u001b[39;00m,\n\u001b[0;32m    <a href='file:///c%3A/Users/PC/AppData/Local/Programs/Python/Python310/lib/site-packages/sklearn/model_selection/_search.py?line=296'>297</a>\u001b[0m         )\n\u001b[0;32m    <a href='file:///c%3A/Users/PC/AppData/Local/Programs/Python/Python310/lib/site-packages/sklearn/model_selection/_search.py?line=297'>298</a>\u001b[0m         n_iter \u001b[39m=\u001b[39m grid_size\n\u001b[1;32m--> <a href='file:///c%3A/Users/PC/AppData/Local/Programs/Python/Python310/lib/site-packages/sklearn/model_selection/_search.py?line=298'>299</a>\u001b[0m     \u001b[39mfor\u001b[39;00m i \u001b[39min\u001b[39;00m sample_without_replacement(grid_size, n_iter, random_state\u001b[39m=\u001b[39;49mrng):\n\u001b[0;32m    <a href='file:///c%3A/Users/PC/AppData/Local/Programs/Python/Python310/lib/site-packages/sklearn/model_selection/_search.py?line=299'>300</a>\u001b[0m         \u001b[39myield\u001b[39;00m param_grid[i]\n\u001b[0;32m    <a href='file:///c%3A/Users/PC/AppData/Local/Programs/Python/Python310/lib/site-packages/sklearn/model_selection/_search.py?line=301'>302</a>\u001b[0m \u001b[39melse\u001b[39;00m:\n",
      "File \u001b[1;32msklearn\\utils\\_random.pyx:220\u001b[0m, in \u001b[0;36msklearn.utils._random.sample_without_replacement\u001b[1;34m()\u001b[0m\n",
      "\u001b[1;31mOverflowError\u001b[0m: Python int too large to convert to C long"
     ]
    }
   ],
   "source": [
    "hrs = HalvingRandomSearchCV(\n",
    "    estimator=pipe,\n",
    "    param_distributions=param_grid,\n",
    "    aggressive_elimination=True,\n",
    "    factor=3,\n",
    "    n_candidates= 'exhaust',\n",
    "    #resource='n_estimators',\n",
    "    min_resources='smallest',\n",
    "    cv=5,\n",
    "    scoring='roc_auc',\n",
    "    #error_score=0,\n",
    "    n_jobs=-1\n",
    ").fit(X_train, y_train)"
   ]
  },
  {
   "cell_type": "code",
   "execution_count": null,
   "metadata": {},
   "outputs": [],
   "source": [
    "results = pd.DataFrame(hrs.cv_results_)\n",
    "results[\"params_str\"] = results.params.apply(str)\n",
    "results.drop_duplicates(subset=(\"params_str\", \"iter\"), inplace=True)\n",
    "mean_scores = results.pivot(\n",
    "    index=\"iter\", columns=\"params_str\", values=\"mean_test_score\"\n",
    ")\n",
    "ax = mean_scores.plot(legend=False, alpha=0.6)\n",
    "\n",
    "labels = [\n",
    "    f\"iter={i}\\nn_samples={hrs.n_resources_[i]}\\nn_candidates={hrs.n_candidates_[i]}\"\n",
    "    for i in range(hrs.n_iterations_)\n",
    "]\n",
    "\n",
    "ax.set_xticks(range(hrs.n_iterations_))\n",
    "ax.set_xticklabels(labels, rotation=45, multialignment=\"left\")\n",
    "ax.set_title(\"Scores of candidates over iterations\")\n",
    "ax.set_ylabel(\"mean test score\", fontsize=15)\n",
    "ax.set_xlabel(\"iterations\", fontsize=15)\n",
    "plt.tight_layout()\n",
    "plt.show()"
   ]
  },
  {
   "cell_type": "code",
   "execution_count": 104,
   "metadata": {},
   "outputs": [
    {
     "data": {
      "text/plain": [
       "0.7450018767518797"
      ]
     },
     "execution_count": 104,
     "metadata": {},
     "output_type": "execute_result"
    }
   ],
   "source": [
    "hrs.best_score_"
   ]
  },
  {
   "cell_type": "code",
   "execution_count": 100,
   "metadata": {},
   "outputs": [
    {
     "data": {
      "text/plain": [
       "{'model__tree_method': 'auto',\n",
       " 'model__subsample': 0.8,\n",
       " 'model__max_depth': 4,\n",
       " 'model__max_delta_step': 0,\n",
       " 'model__lambda': 6.0,\n",
       " 'model__gamma': 10,\n",
       " 'model__eta': 0.2,\n",
       " 'model__colsample_bytree': 0.4,\n",
       " 'Mean_Target_Encoding__smoothing': 0.3}"
      ]
     },
     "execution_count": 100,
     "metadata": {},
     "output_type": "execute_result"
    }
   ],
   "source": [
    "hrs.best_params_"
   ]
  },
  {
   "cell_type": "code",
   "execution_count": 101,
   "metadata": {},
   "outputs": [],
   "source": [
    "pred_test = hrs.best_estimator_.predict_proba(X_test)[:,1]"
   ]
  },
  {
   "cell_type": "code",
   "execution_count": 102,
   "metadata": {},
   "outputs": [
    {
     "name": "stdout",
     "output_type": "stream",
     "text": [
      "AUC 0.7417033307240299\n"
     ]
    }
   ],
   "source": [
    "print('AUC',roc_auc_score(y_test, pred_test))"
   ]
  },
  {
   "cell_type": "markdown",
   "metadata": {},
   "source": [
    "# Predict on the second dataset"
   ]
  },
  {
   "cell_type": "code",
   "execution_count": null,
   "metadata": {},
   "outputs": [],
   "source": [
    "prediction = hrs.best_estimator_.predict_proba(data_test)[:,1]"
   ]
  },
  {
   "cell_type": "code",
   "execution_count": null,
   "metadata": {},
   "outputs": [],
   "source": [
    "data_saving = pd.DataFrame({'SK_ID_CURR' : data_test.index ,'prediction' : prediction})\n",
    "data_saving.to_csv('DS2_22_HW3_CADIOU&PAIN.csv',index=False,sep=',')\n",
    "data_saving.info()"
   ]
  }
 ],
 "metadata": {
  "interpreter": {
   "hash": "e593ac106456af50ce7af38f9671c411b49d6cd90f9b885e167f0f594e09038c"
  },
  "kernelspec": {
   "display_name": "Python 3.10.4 64-bit",
   "language": "python",
   "name": "python3"
  },
  "language_info": {
   "codemirror_mode": {
    "name": "ipython",
    "version": 3
   },
   "file_extension": ".py",
   "mimetype": "text/x-python",
   "name": "python",
   "nbconvert_exporter": "python",
   "pygments_lexer": "ipython3",
   "version": "3.10.4"
  },
  "orig_nbformat": 4
 },
 "nbformat": 4,
 "nbformat_minor": 2
}
