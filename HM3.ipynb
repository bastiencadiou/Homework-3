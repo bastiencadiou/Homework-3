{
 "cells": [
  {
   "cell_type": "markdown",
   "metadata": {},
   "source": [
    "# HELP\n",
    "\n",
    "https://practicaldatascience.co.uk/machine-learning/how-to-use-category-encoders-to-transform-categorical-variables\n",
    "https://xgboost.readthedocs.io/en/latest/parameter.html"
   ]
  },
  {
   "cell_type": "markdown",
   "metadata": {},
   "source": [
    "## Load modules and packages"
   ]
  },
  {
   "cell_type": "code",
   "execution_count": null,
   "metadata": {},
   "outputs": [],
   "source": [
    "import numpy as np\n",
    "import pandas as pd\n",
    "import datetime\n",
    "from tqdm.notebook import tqdm\n",
    "from random import sample\n",
    "from sklearn.model_selection import train_test_split\n",
    "from sklearn.metrics import roc_auc_score\n",
    "from sklearn import tree\n",
    "from sklearn.metrics import roc_auc_score\n",
    "import random\n",
    "from sklearn.pipeline import Pipeline\n",
    "import category_encoders as ce\n",
    "import xgboost as xgb\n",
    "from sklearn.metrics import mean_squared_error\n",
    "from sklearn.experimental import enable_halving_search_cv # noqa\n",
    "# now you can import normally from model_selection\n",
    "from sklearn.model_selection import HalvingRandomSearchCV"
   ]
  },
  {
   "cell_type": "markdown",
   "metadata": {},
   "source": [
    "## Load data"
   ]
  },
  {
   "cell_type": "code",
   "execution_count": null,
   "metadata": {},
   "outputs": [],
   "source": [
    "random.seed(10) \n",
    "\n",
    "from functions import *\n",
    "# Load data - set index column, decimal point, separator\n",
    "data = pd.read_csv('hw1_devsample.csv', sep=',',\n",
    "                   decimal='.', index_col='SK_ID_CURR')\n",
    "\n",
    "# print time of data being loaded - use strftime\n",
    "print(f'Data loaded on:   {datetime.datetime.now().strftime(format=\"%Y-%m-%d %H:%M:%S\")}')\n",
    "data_xgb = data.copy()\n",
    "\n",
    "data_test = pd.read_csv('hw1_outofsample.csv', sep=',',decimal='.', index_col='SK_ID_CURR')"
   ]
  },
  {
   "cell_type": "markdown",
   "metadata": {},
   "source": [
    "## Small changes"
   ]
  },
  {
   "cell_type": "code",
   "execution_count": null,
   "metadata": {},
   "outputs": [],
   "source": [
    "target = data_xgb['TARGET']\n",
    "data_xgb = data_xgb.drop(['MONTH','TIME','DAY','BASE','TARGET'], axis=1)\n",
    "data_xgb.info()"
   ]
  },
  {
   "cell_type": "code",
   "execution_count": null,
   "metadata": {},
   "outputs": [],
   "source": [
    "data_test = data_test.drop(['MONTH','TIME','DAY','BASE'], axis=1)"
   ]
  },
  {
   "cell_type": "code",
   "execution_count": null,
   "metadata": {},
   "outputs": [],
   "source": [
    "cols_pred = data_xgb.columns\n",
    "cols_pred_cat = [col for col in cols_pred if data_xgb[col].dtype == 'O']\n",
    "cols_pred_cat"
   ]
  },
  {
   "cell_type": "markdown",
   "metadata": {},
   "source": [
    "## Split data train and test"
   ]
  },
  {
   "cell_type": "code",
   "execution_count": null,
   "metadata": {},
   "outputs": [],
   "source": [
    "from sklearn.model_selection import train_test_split\n",
    "\n",
    "X_train, X_test, y_train, y_test = train_test_split(data_xgb, target, test_size=0.2, random_state=123)"
   ]
  },
  {
   "cell_type": "markdown",
   "metadata": {},
   "source": [
    "# Test manually"
   ]
  },
  {
   "cell_type": "markdown",
   "metadata": {},
   "source": [
    "### Test target encoder"
   ]
  },
  {
   "cell_type": "code",
   "execution_count": null,
   "metadata": {},
   "outputs": [],
   "source": [
    "target_encoder = ce.target_encoder.TargetEncoder(verbose=0, \n",
    "cols=cols_pred_cat,\n",
    "#drop_invariant=False, \n",
    "return_df=True, handle_missing='value', \n",
    "handle_unknown='value',\n",
    "#, min_samples_leaf=1\n",
    "#smoothing=1.0\n",
    ")"
   ]
  },
  {
   "cell_type": "code",
   "execution_count": null,
   "metadata": {},
   "outputs": [],
   "source": [
    "X_train = target_encoder.fit_transform(X_train, y_train)\n",
    "X_train.info()"
   ]
  },
  {
   "cell_type": "code",
   "execution_count": null,
   "metadata": {},
   "outputs": [],
   "source": [
    "# find columns with infinity values\n",
    "cols_with_inf = []\n",
    "for col in X_train.columns:\n",
    "    if np.any(np.isinf(X_train[col])):\n",
    "        cols_with_inf.append(col)\n",
    "        print(f'Column {col} includes infinity values.')\n",
    "\n",
    "# find columns with negative infinity values\n",
    "cols_with_neginf = []\n",
    "for col in X_train.columns:\n",
    "    if np.any(np.isneginf(X_train[col])):\n",
    "        cols_with_neginf.append(col)\n",
    "        print(f'Column {col} includes negative infinity values.')\n",
    "\n",
    "for col in cols_with_inf:\n",
    "    X_train[col].replace(np.inf, 9999999, inplace = True)"
   ]
  },
  {
   "cell_type": "markdown",
   "metadata": {},
   "source": [
    "### Test manually XGBOOST"
   ]
  },
  {
   "cell_type": "code",
   "execution_count": null,
   "metadata": {},
   "outputs": [],
   "source": [
    "model = xgb.XGBClassifier(objective='binary:logistic', booster='gbtree', max_depth = 4, eta = 0.4, gamma = 3)"
   ]
  },
  {
   "cell_type": "code",
   "execution_count": null,
   "metadata": {},
   "outputs": [],
   "source": [
    "print(model)"
   ]
  },
  {
   "cell_type": "code",
   "execution_count": null,
   "metadata": {},
   "outputs": [],
   "source": [
    "model.fit(X_train,y_train)"
   ]
  },
  {
   "cell_type": "code",
   "execution_count": null,
   "metadata": {},
   "outputs": [],
   "source": [
    "X_test = target_encoder.fit_transform(X_test, y_test)\n",
    "X_test.info()"
   ]
  },
  {
   "cell_type": "code",
   "execution_count": null,
   "metadata": {},
   "outputs": [],
   "source": [
    "pred_test = model.predict(X_test)"
   ]
  },
  {
   "cell_type": "code",
   "execution_count": null,
   "metadata": {},
   "outputs": [],
   "source": [
    "from sklearn.metrics import accuracy_score\n",
    "accuracy = accuracy_score(y_test, pred_test)\n",
    "print(\"Accuracy: %.2f%%\" % (accuracy * 100.0))"
   ]
  },
  {
   "cell_type": "markdown",
   "metadata": {},
   "source": [
    "# Pipeline"
   ]
  },
  {
   "cell_type": "code",
   "execution_count": null,
   "metadata": {},
   "outputs": [],
   "source": [
    "target_encoder = ce.target_encoder.TargetEncoder( \n",
    "cols=cols_pred_cat,\n",
    "#drop_invariant=False, \n",
    "return_df=True, handle_missing='value', \n",
    "handle_unknown='value'\n",
    "#, min_samples_leaf=1\n",
    "#, smoothing=1.0\n",
    ")"
   ]
  },
  {
   "cell_type": "code",
   "execution_count": null,
   "metadata": {},
   "outputs": [],
   "source": [
    "model = xgb.XGBClassifier(objective='binary:logistic', booster='gbtree', eval_metric = 'auc')"
   ]
  },
  {
   "cell_type": "code",
   "execution_count": null,
   "metadata": {},
   "outputs": [],
   "source": [
    "pipe = Pipeline([\n",
    "    ('Mean_Target_Encoding', target_encoder),\n",
    "    ('model', model)\n",
    "])"
   ]
  },
  {
   "cell_type": "markdown",
   "metadata": {},
   "source": [
    "## Halving Random Search CV"
   ]
  },
  {
   "cell_type": "code",
   "execution_count": null,
   "metadata": {},
   "outputs": [],
   "source": [
    "param_grid = {\n",
    "    'Mean_Target_Encoding__smoothing': [0.5, 1.0, 1.5,2.0],\n",
    "    'model__max_depth': [2, 4, 6, 8],\n",
    "    'model__eta' : [0.2,0.3,0.4],\n",
    "    'model__gamma': [0,1,2,3,4,5]\n",
    "}\n"
   ]
  },
  {
   "cell_type": "markdown",
   "metadata": {},
   "source": [
    "## Apply pipeline to data"
   ]
  },
  {
   "cell_type": "code",
   "execution_count": null,
   "metadata": {},
   "outputs": [],
   "source": [
    "FACTOR = 2\n",
    "MAX_RESOURCE_DIVISOR = 4\n",
    "\n",
    "n_samples = len(X_train)\n",
    "min_ressources = n_samples/MAX_RESOURCE_DIVISOR\n",
    "min_ressources"
   ]
  },
  {
   "cell_type": "code",
   "execution_count": null,
   "metadata": {},
   "outputs": [],
   "source": [
    "min_ressources = int(min_ressources)"
   ]
  },
  {
   "cell_type": "code",
   "execution_count": null,
   "metadata": {},
   "outputs": [],
   "source": [
    "search = HalvingRandomSearchCV(pipe, param_grid, \n",
    "aggressive_elimination=True,\n",
    "resource='n_samples',min_resources=min_ressources,factor=FACTOR,).fit(X_train, y_train)"
   ]
  },
  {
   "cell_type": "code",
   "execution_count": null,
   "metadata": {},
   "outputs": [],
   "source": [
    "hrs = HalvingRandomSearchCV(\n",
    "    estimator=pipe,\n",
    "    param_distributions=param_grid,\n",
    "    n_candidates=10,\n",
    "    factor=2,\n",
    "    n_jobs=-1\n",
    ").fit(X_train, y_train)"
   ]
  },
  {
   "cell_type": "code",
   "execution_count": 60,
   "metadata": {},
   "outputs": [
    {
     "data": {
      "text/plain": [
       "{'model__max_depth': 8,\n",
       " 'model__gamma': 1,\n",
       " 'model__eta': 0.3,\n",
       " 'Mean_Target_Encoding__smoothing': 0.5}"
      ]
     },
     "execution_count": 60,
     "metadata": {},
     "output_type": "execute_result"
    }
   ],
   "source": [
    "hrs.best_params_ "
   ]
  },
  {
   "cell_type": "code",
   "execution_count": null,
   "metadata": {},
   "outputs": [],
   "source": []
  },
  {
   "cell_type": "markdown",
   "metadata": {},
   "source": [
    "{'model__max_depth': 2,\n",
    " 'model__gamma': 5,\n",
    " 'model__eta': 0.2,\n",
    " 'Mean_Target_Encoding__smoothing': 1.5}"
   ]
  },
  {
   "cell_type": "markdown",
   "metadata": {},
   "source": [
    "{'model__max_depth': 2,\n",
    " 'model__gamma': 4,\n",
    " 'model__eta': 0.4,\n",
    " 'Mean_Target_Encoding__smoothing': 1.0}"
   ]
  },
  {
   "cell_type": "code",
   "execution_count": 59,
   "metadata": {},
   "outputs": [
    {
     "data": {
      "text/plain": [
       "0.93125"
      ]
     },
     "execution_count": 59,
     "metadata": {},
     "output_type": "execute_result"
    }
   ],
   "source": [
    "hrs.best_score_"
   ]
  },
  {
   "cell_type": "code",
   "execution_count": 58,
   "metadata": {},
   "outputs": [
    {
     "data": {
      "text/plain": [
       "Pipeline(steps=[('Mean_Target_Encoding',\n",
       "                 TargetEncoder(cols=['NAME_CONTRACT_TYPE', 'CODE_GENDER',\n",
       "                                     'FLAG_OWN_CAR', 'FLAG_OWN_REALTY',\n",
       "                                     'NAME_TYPE_SUITE', 'NAME_INCOME_TYPE',\n",
       "                                     'NAME_EDUCATION_TYPE',\n",
       "                                     'NAME_FAMILY_STATUS', 'NAME_HOUSING_TYPE',\n",
       "                                     'OCCUPATION_TYPE',\n",
       "                                     'WEEKDAY_APPR_PROCESS_START',\n",
       "                                     'ORGANIZATION_TYPE', 'FONDKAPREMONT_MODE',\n",
       "                                     'HOUSETYPE_MODE', 'WALLSMATERIAL_MO...\n",
       "                               eval_metric='auc', gamma=1, gpu_id=-1,\n",
       "                               grow_policy='depthwise', importance_type=None,\n",
       "                               interaction_constraints='',\n",
       "                               learning_rate=0.300000012, max_bin=256,\n",
       "                               max_cat_to_onehot=4, max_delta_step=0,\n",
       "                               max_depth=8, max_leaves=0, min_child_weight=1,\n",
       "                               missing=nan, monotone_constraints='()',\n",
       "                               n_estimators=100, n_jobs=0, num_parallel_tree=1,\n",
       "                               predictor='auto', random_state=0, reg_alpha=0, ...))])"
      ]
     },
     "execution_count": 58,
     "metadata": {},
     "output_type": "execute_result"
    }
   ],
   "source": [
    "hrs.best_estimator_"
   ]
  },
  {
   "cell_type": "code",
   "execution_count": null,
   "metadata": {},
   "outputs": [],
   "source": [
    "hrs.fit(X_train,y_train)"
   ]
  },
  {
   "cell_type": "code",
   "execution_count": null,
   "metadata": {},
   "outputs": [],
   "source": [
    "pred_test = hrs.predict(X_test)"
   ]
  },
  {
   "cell_type": "code",
   "execution_count": null,
   "metadata": {},
   "outputs": [],
   "source": [
    "hrs.score"
   ]
  },
  {
   "cell_type": "code",
   "execution_count": null,
   "metadata": {},
   "outputs": [],
   "source": [
    "print('AUC',roc_auc_score(y_test, pred_test))"
   ]
  },
  {
   "cell_type": "markdown",
   "metadata": {},
   "source": [
    "## Calculate AUC"
   ]
  },
  {
   "cell_type": "code",
   "execution_count": null,
   "metadata": {},
   "outputs": [],
   "source": [
    "pred_test = search.predict(X_test)"
   ]
  },
  {
   "cell_type": "code",
   "execution_count": null,
   "metadata": {},
   "outputs": [],
   "source": [
    "sum(pred_test)"
   ]
  },
  {
   "cell_type": "code",
   "execution_count": null,
   "metadata": {},
   "outputs": [],
   "source": [
    "sum(y_test)"
   ]
  },
  {
   "cell_type": "code",
   "execution_count": null,
   "metadata": {},
   "outputs": [],
   "source": [
    "accuracy = accuracy_score(y_test, pred_test)\n",
    "print(\"Accuracy: %.2f%%\" % (accuracy * 100.0))"
   ]
  },
  {
   "cell_type": "code",
   "execution_count": null,
   "metadata": {},
   "outputs": [],
   "source": [
    "print('AUC',roc_auc_score(y_test, pred_test))"
   ]
  },
  {
   "cell_type": "markdown",
   "metadata": {},
   "source": [
    "# Predict on the second dataset"
   ]
  },
  {
   "cell_type": "code",
   "execution_count": null,
   "metadata": {},
   "outputs": [],
   "source": [
    "prediction = search.predict(data_test)"
   ]
  },
  {
   "cell_type": "code",
   "execution_count": null,
   "metadata": {},
   "outputs": [],
   "source": [
    "data_saving = pd.DataFrame({'SK_ID_CURR' : data_test.index ,'prediction' : prediction})\n",
    "data_saving.to_csv('DS2_22_HW3_CADIOU&PAIN.csv',index=False,sep=',')\n",
    "data_saving.info()"
   ]
  }
 ],
 "metadata": {
  "interpreter": {
   "hash": "e593ac106456af50ce7af38f9671c411b49d6cd90f9b885e167f0f594e09038c"
  },
  "kernelspec": {
   "display_name": "Python 3.10.4 64-bit",
   "language": "python",
   "name": "python3"
  },
  "language_info": {
   "codemirror_mode": {
    "name": "ipython",
    "version": 3
   },
   "file_extension": ".py",
   "mimetype": "text/x-python",
   "name": "python",
   "nbconvert_exporter": "python",
   "pygments_lexer": "ipython3",
   "version": "3.10.4"
  },
  "orig_nbformat": 4
 },
 "nbformat": 4,
 "nbformat_minor": 2
}
