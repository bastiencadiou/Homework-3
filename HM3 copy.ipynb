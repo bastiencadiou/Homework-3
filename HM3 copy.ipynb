{
 "cells": [
  {
   "cell_type": "markdown",
   "metadata": {},
   "source": [
    "## Load modules and packages"
   ]
  },
  {
   "cell_type": "code",
   "execution_count": 1,
   "metadata": {},
   "outputs": [],
   "source": [
    "import numpy as np\n",
    "import pandas as pd\n",
    "import datetime\n",
    "from tqdm.notebook import tqdm\n",
    "from random import sample\n",
    "from sklearn.model_selection import train_test_split\n",
    "from sklearn.metrics import roc_auc_score\n",
    "from sklearn import tree\n",
    "from sklearn.metrics import roc_auc_score\n",
    "import random\n",
    "from sklearn.pipeline import Pipeline\n",
    "import category_encoders as ce\n",
    "import xgboost as xgb\n",
    "from sklearn.metrics import mean_squared_error\n",
    "from sklearn.experimental import enable_halving_search_cv # noqa\n",
    "# now you can import normally from model_selection\n",
    "from sklearn.model_selection import HalvingRandomSearchCV"
   ]
  },
  {
   "cell_type": "markdown",
   "metadata": {},
   "source": [
    "## Load data"
   ]
  },
  {
   "cell_type": "code",
   "execution_count": 2,
   "metadata": {},
   "outputs": [
    {
     "name": "stdout",
     "output_type": "stream",
     "text": [
      "Data loaded on:   2022-05-04 15:04:22\n"
     ]
    }
   ],
   "source": [
    "random.seed(10) \n",
    "\n",
    "from functions import *\n",
    "# Load data - set index column, decimal point, separator\n",
    "data = pd.read_csv('hw1_devsample.csv', sep=',',\n",
    "                   decimal='.', index_col='SK_ID_CURR')\n",
    "\n",
    "# print time of data being loaded - use strftime\n",
    "print(f'Data loaded on:   {datetime.datetime.now().strftime(format=\"%Y-%m-%d %H:%M:%S\")}')\n",
    "data_cart = data.copy()\n",
    "\n",
    "data_test = pd.read_csv('hw1_outofsample.csv', sep=',',decimal='.', index_col='SK_ID_CURR')"
   ]
  },
  {
   "cell_type": "code",
   "execution_count": 3,
   "metadata": {},
   "outputs": [
    {
     "name": "stdout",
     "output_type": "stream",
     "text": [
      "            TARGET NAME_CONTRACT_TYPE CODE_GENDER FLAG_OWN_CAR  \\\n",
      "SK_ID_CURR                                                       \n",
      "215138         0.0         Cash loans           M            N   \n",
      "325963         0.0         Cash loans           M            Y   \n",
      "206923         0.0         Cash loans           F            N   \n",
      "265855         0.0         Cash loans           F            N   \n",
      "359795         0.0    Revolving loans           F            N   \n",
      "...            ...                ...         ...          ...   \n",
      "203263         0.0         Cash loans           F            N   \n",
      "304373         0.0         Cash loans           M            N   \n",
      "348873         0.0         Cash loans           F            Y   \n",
      "296666         1.0         Cash loans           M            Y   \n",
      "259380         0.0         Cash loans           F            N   \n",
      "\n",
      "           FLAG_OWN_REALTY  CNT_CHILDREN  AMT_INCOME_TOTAL  AMT_CREDIT  \\\n",
      "SK_ID_CURR                                                               \n",
      "215138                   Y           0.0          135000.0    646920.0   \n",
      "325963                   Y           0.0          135000.0    740218.5   \n",
      "206923                   Y           0.0          180000.0    339241.5   \n",
      "265855                   Y           0.0          180000.0   1264428.0   \n",
      "359795                   Y           NaN           76500.0    202500.0   \n",
      "...                    ...           ...               ...         ...   \n",
      "203263                   N           0.0          135000.0    888840.0   \n",
      "304373                   Y           0.0          306000.0   1288350.0   \n",
      "348873                   N           0.0          225000.0    781920.0   \n",
      "296666                   Y           2.0          202500.0    634887.0   \n",
      "259380                   Y           3.0           67500.0    163008.0   \n",
      "\n",
      "            AMT_ANNUITY  AMT_GOODS_PRICE  ...  \\\n",
      "SK_ID_CURR                                ...   \n",
      "215138          25195.5         540000.0  ...   \n",
      "325963          40284.0         639000.0  ...   \n",
      "206923          12919.5         238500.0  ...   \n",
      "265855          37098.0         990000.0  ...   \n",
      "359795          10125.0         202500.0  ...   \n",
      "...                 ...              ...  ...   \n",
      "203263          29506.5         675000.0  ...   \n",
      "304373          41692.5        1125000.0  ...   \n",
      "348873          41400.0         675000.0  ...   \n",
      "296666          25987.5         513000.0  ...   \n",
      "259380          11020.5         144000.0  ...   \n",
      "\n",
      "           MEAN_AMTCR_OVERDUE_0M_INFM_TYPE_EQ_ACTIVE_DIV_MEAN_AMTCR_0M_INFM_TYPE_EQ_ACTIVE  \\\n",
      "SK_ID_CURR                                                                                   \n",
      "215138                                                    0.0                                \n",
      "325963                                                    0.0                                \n",
      "206923                                                    0.0                                \n",
      "265855                                                    0.0                                \n",
      "359795                                                    NaN                                \n",
      "...                                                       ...                                \n",
      "203263                                                    0.0                                \n",
      "304373                                                    0.0                                \n",
      "348873                                                    0.0                                \n",
      "296666                                                    0.0                                \n",
      "259380                                                    NaN                                \n",
      "\n",
      "           MEAN_AMTCR_OVERDUE_0M_12M_TYPE_EQ_ACTIVE_DIV_MEAN_AMTCR_0M_12M_TYPE_EQ_ACTIVE  \\\n",
      "SK_ID_CURR                                                                                 \n",
      "215138                                                    NaN                              \n",
      "325963                                                    0.0                              \n",
      "206923                                                    NaN                              \n",
      "265855                                                    0.0                              \n",
      "359795                                                    NaN                              \n",
      "...                                                       ...                              \n",
      "203263                                                    NaN                              \n",
      "304373                                                    NaN                              \n",
      "348873                                                    0.0                              \n",
      "296666                                                    0.0                              \n",
      "259380                                                    NaN                              \n",
      "\n",
      "           MEAN_AMTCR_OVERDUE_0M_INFM_TYPE_EQ_CLOSED_DIV_MEAN_AMTCR_0M_INFM_TYPE_EQ_CLOSED  \\\n",
      "SK_ID_CURR                                                                                   \n",
      "215138                                                    0.0                                \n",
      "325963                                                    0.0                                \n",
      "206923                                                    0.0                                \n",
      "265855                                                    NaN                                \n",
      "359795                                                    0.0                                \n",
      "...                                                       ...                                \n",
      "203263                                                    0.0                                \n",
      "304373                                                    NaN                                \n",
      "348873                                                    0.0                                \n",
      "296666                                                    NaN                                \n",
      "259380                                                    0.0                                \n",
      "\n",
      "           MEAN_AMTCR_OVERDUE_0M_12M_TYPE_EQ_CLOSED_DIV_MEAN_AMTCR_0M_12M_TYPE_EQ_CLOSED  \\\n",
      "SK_ID_CURR                                                                                 \n",
      "215138                                                    NaN                              \n",
      "325963                                                    NaN                              \n",
      "206923                                                    NaN                              \n",
      "265855                                                    NaN                              \n",
      "359795                                                    0.0                              \n",
      "...                                                       ...                              \n",
      "203263                                                    NaN                              \n",
      "304373                                                    NaN                              \n",
      "348873                                                    NaN                              \n",
      "296666                                                    NaN                              \n",
      "259380                                                    NaN                              \n",
      "\n",
      "           FIRST_TRANSACTION_TIME_MONTHS  LAST_TRANSACTION_TIME_MONTHS  \\\n",
      "SK_ID_CURR                                                               \n",
      "215138                              37.0                          28.0   \n",
      "325963                               3.0                          18.0   \n",
      "206923                              73.0                          61.0   \n",
      "265855                              36.0                           4.0   \n",
      "359795                              12.0                          12.0   \n",
      "...                                  ...                           ...   \n",
      "203263                              19.0                          36.0   \n",
      "304373                              40.0                          40.0   \n",
      "348873                               1.0                          38.0   \n",
      "296666                               3.0                           3.0   \n",
      "259380                              32.0                          32.0   \n",
      "\n",
      "                  TIME  BASE       DAY   MONTH  \n",
      "SK_ID_CURR                                      \n",
      "215138      2018-06-23     1  20180623  201806  \n",
      "325963      2018-06-16     1  20180616  201806  \n",
      "206923      2018-06-19     1  20180619  201806  \n",
      "265855      2018-08-09     1  20180809  201808  \n",
      "359795      2018-11-13     1  20181113  201811  \n",
      "...                ...   ...       ...     ...  \n",
      "203263      2018-04-20     1  20180420  201804  \n",
      "304373      2018-09-08     1  20180908  201809  \n",
      "348873      2018-02-15     1  20180215  201802  \n",
      "296666      2018-06-27     1  20180627  201806  \n",
      "259380      2018-05-16     1  20180516  201805  \n",
      "\n",
      "[80000 rows x 196 columns]\n"
     ]
    }
   ],
   "source": [
    "print(data_cart)"
   ]
  },
  {
   "cell_type": "markdown",
   "metadata": {},
   "source": [
    "## Small changes"
   ]
  },
  {
   "cell_type": "code",
   "execution_count": 4,
   "metadata": {},
   "outputs": [
    {
     "name": "stdout",
     "output_type": "stream",
     "text": [
      "<class 'pandas.core.frame.DataFrame'>\n",
      "Int64Index: 80000 entries, 215138 to 259380\n",
      "Columns: 191 entries, NAME_CONTRACT_TYPE to LAST_TRANSACTION_TIME_MONTHS\n",
      "dtypes: float64(138), int64(37), object(16)\n",
      "memory usage: 117.2+ MB\n"
     ]
    }
   ],
   "source": [
    "target = data_cart['TARGET']\n",
    "data_cart = data_cart.drop(['MONTH','TIME','DAY','BASE','TARGET'], axis=1)\n",
    "data_cart.info()"
   ]
  },
  {
   "cell_type": "code",
   "execution_count": 15,
   "metadata": {},
   "outputs": [
    {
     "data": {
      "text/plain": [
       "['NAME_CONTRACT_TYPE',\n",
       " 'CODE_GENDER',\n",
       " 'FLAG_OWN_CAR',\n",
       " 'FLAG_OWN_REALTY',\n",
       " 'NAME_TYPE_SUITE',\n",
       " 'NAME_INCOME_TYPE',\n",
       " 'NAME_EDUCATION_TYPE',\n",
       " 'NAME_FAMILY_STATUS',\n",
       " 'NAME_HOUSING_TYPE',\n",
       " 'OCCUPATION_TYPE',\n",
       " 'WEEKDAY_APPR_PROCESS_START',\n",
       " 'ORGANIZATION_TYPE',\n",
       " 'FONDKAPREMONT_MODE',\n",
       " 'HOUSETYPE_MODE',\n",
       " 'WALLSMATERIAL_MODE',\n",
       " 'EMERGENCYSTATE_MODE']"
      ]
     },
     "execution_count": 15,
     "metadata": {},
     "output_type": "execute_result"
    }
   ],
   "source": [
    "cols_pred = data_cart.columns\n",
    "cols_pred_cat = [col for col in cols_pred if data_cart[col].dtype == 'O']\n",
    "cols_pred_cat\n"
   ]
  },
  {
   "cell_type": "code",
   "execution_count": null,
   "metadata": {},
   "outputs": [],
   "source": [
    "X_train, X_test, y_train, y_test = train_test_split(data_cart, target, test_size=0.2, random_state=123)"
   ]
  },
  {
   "cell_type": "markdown",
   "metadata": {},
   "source": [
    "## Split data train and test and Test target Encoder "
   ]
  },
  {
   "cell_type": "code",
   "execution_count": 14,
   "metadata": {},
   "outputs": [],
   "source": [
    "target_encoder = ce.target_encoder.TargetEncoder(\n",
    "cols=cols_pred_cat,\n",
    "#drop_invariant=False, \n",
    "return_df=True, handle_missing='value', \n",
    "handle_unknown='value'\n",
    ")"
   ]
  },
  {
   "cell_type": "markdown",
   "metadata": {},
   "source": [
    "# Test XGBOOST"
   ]
  },
  {
   "cell_type": "code",
   "execution_count": 11,
   "metadata": {},
   "outputs": [],
   "source": [
    "xgb_guillaume = xgb.XGBClassifier()"
   ]
  },
  {
   "cell_type": "code",
   "execution_count": 12,
   "metadata": {},
   "outputs": [
    {
     "name": "stdout",
     "output_type": "stream",
     "text": [
      "XGBClassifier(base_score=None, booster=None, callbacks=None,\n",
      "              colsample_bylevel=None, colsample_bynode=None,\n",
      "              colsample_bytree=None, early_stopping_rounds=None,\n",
      "              enable_categorical=False, eval_metric=None, gamma=None,\n",
      "              gpu_id=None, grow_policy=None, importance_type=None,\n",
      "              interaction_constraints=None, learning_rate=None, max_bin=None,\n",
      "              max_cat_to_onehot=None, max_delta_step=None, max_depth=None,\n",
      "              max_leaves=None, min_child_weight=None, missing=nan,\n",
      "              monotone_constraints=None, n_estimators=100, n_jobs=None,\n",
      "              num_parallel_tree=None, predictor=None, random_state=None,\n",
      "              reg_alpha=None, reg_lambda=None, ...)\n"
     ]
    }
   ],
   "source": [
    "print(xgb_guillaume)"
   ]
  },
  {
   "cell_type": "markdown",
   "metadata": {},
   "source": [
    "# Pipeline"
   ]
  },
  {
   "cell_type": "code",
   "execution_count": 13,
   "metadata": {},
   "outputs": [],
   "source": [
    "pipe = Pipeline([\n",
    "    ('MeanTargetEncoding', target_encoder),\n",
    "    ('model', xgb_guillaume)\n",
    "])"
   ]
  },
  {
   "cell_type": "markdown",
   "metadata": {},
   "source": [
    "## Halving Random Search CV"
   ]
  },
  {
   "cell_type": "code",
   "execution_count": null,
   "metadata": {},
   "outputs": [],
   "source": [
    "param_grid = {\n",
    "    'MeanTargetEncoding__verbose': [0,1,2],\n",
    "    'model__max_depth': [2, 4, 6, 8]\n",
    "}"
   ]
  },
  {
   "cell_type": "markdown",
   "metadata": {},
   "source": [
    "## Apply pipeline to data"
   ]
  },
  {
   "cell_type": "code",
   "execution_count": null,
   "metadata": {},
   "outputs": [],
   "source": [
    "search = HalvingRandomSearchCV(pipe, param_grid, cv=3).fit(X_train, y_train)"
   ]
  },
  {
   "cell_type": "markdown",
   "metadata": {},
   "source": [
    "## Calculate AUC"
   ]
  },
  {
   "cell_type": "markdown",
   "metadata": {},
   "source": [
    "# Predict on the second dataset"
   ]
  },
  {
   "cell_type": "code",
   "execution_count": null,
   "metadata": {},
   "outputs": [],
   "source": [
    "prediction = ..."
   ]
  },
  {
   "cell_type": "code",
   "execution_count": null,
   "metadata": {},
   "outputs": [],
   "source": [
    "data_saving = pd.DataFrame({'SK_ID_CURR' : data_test.index ,'prediction' : prediction})\n",
    "data_saving.to_csv('DS2_22_HW1_CADIOU&PAIN.csv',index=False,sep=',')\n",
    "data_saving.info()"
   ]
  }
 ],
 "metadata": {
  "interpreter": {
   "hash": "8ed06d07b9ff369db6ed7b53447be18709da67cd911d838d72fee7fecb26667a"
  },
  "kernelspec": {
   "display_name": "Python 3.10.4 64-bit",
   "language": "python",
   "name": "python3"
  },
  "language_info": {
   "codemirror_mode": {
    "name": "ipython",
    "version": 3
   },
   "file_extension": ".py",
   "mimetype": "text/x-python",
   "name": "python",
   "nbconvert_exporter": "python",
   "pygments_lexer": "ipython3",
   "version": "3.8.10"
  },
  "orig_nbformat": 4
 },
 "nbformat": 4,
 "nbformat_minor": 2
}
